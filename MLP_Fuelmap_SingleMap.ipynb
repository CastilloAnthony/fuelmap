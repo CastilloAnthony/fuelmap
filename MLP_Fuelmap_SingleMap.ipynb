{
 "cells": [
  {
   "cell_type": "markdown",
   "id": "9cd00a7d",
   "metadata": {},
   "source": [
    "# Instruction \n",
    "## Release Notes\n",
    "First release of the MLP_Fuelmap_SingleMap 2/14/2023 by wto@csustan.edu\n",
    "\n",
    "### To train and predict the ML \n",
    "1. Load the Libraries from Fuelmap.ipynb first using %run Fuelmap.ipynb\n",
    "2. Run the Train and Predict block. It will train the MLP with all of the non-zero tag data. Create the confusion matrix and print out the accuracies.\n",
    "\n",
    "### To predict the fuelmap without training\n",
    "1. Load the Libraries from Fuelmap.ipynb first using %run Fuelmap.ipynb\n",
    "2. Run the Prediction Only Cell. This will run the prediction with the previously trained mlp. Create the confusion matrix and print out the accuracies.\n"
   ]
  },
  {
   "cell_type": "code",
   "execution_count": 1,
   "id": "5ada8da2",
   "metadata": {},
   "outputs": [
    {
     "ename": "ModuleNotFoundError",
     "evalue": "No module named 'osgeo'",
     "output_type": "error",
     "traceback": [
      "\u001b[1;31m---------------------------------------------------------------------------\u001b[0m",
      "\u001b[1;31mModuleNotFoundError\u001b[0m                       Traceback (most recent call last)",
      "File \u001b[1;32m~\\AppData\\Local\\Temp\\ipykernel_26412\\2484534437.py:10\u001b[0m\n\u001b[0;32m      8\u001b[0m \u001b[38;5;28;01mimport\u001b[39;00m \u001b[38;5;21;01mmatplotlib\u001b[39;00m\u001b[38;5;21;01m.\u001b[39;00m\u001b[38;5;21;01maxes\u001b[39;00m \u001b[38;5;28;01mas\u001b[39;00m \u001b[38;5;21;01max\u001b[39;00m\n\u001b[0;32m      9\u001b[0m \u001b[38;5;28;01mfrom\u001b[39;00m \u001b[38;5;21;01mmatplotlib\u001b[39;00m \u001b[38;5;28;01mimport\u001b[39;00m colors\n\u001b[1;32m---> 10\u001b[0m \u001b[38;5;28;01mfrom\u001b[39;00m \u001b[38;5;21;01mosgeo\u001b[39;00m \u001b[38;5;28;01mimport\u001b[39;00m gdal\n\u001b[0;32m     11\u001b[0m \u001b[38;5;28;01mfrom\u001b[39;00m \u001b[38;5;21;01mosgeo\u001b[39;00m \u001b[38;5;28;01mimport\u001b[39;00m gdal_array\n\u001b[0;32m     12\u001b[0m \u001b[38;5;28;01mfrom\u001b[39;00m \u001b[38;5;21;01mosgeo\u001b[39;00m \u001b[38;5;28;01mimport\u001b[39;00m osr\n",
      "\u001b[1;31mModuleNotFoundError\u001b[0m: No module named 'osgeo'"
     ]
    },
    {
     "ename": "ModuleNotFoundError",
     "evalue": "No module named 'osgeo'",
     "output_type": "error",
     "traceback": [
      "\u001b[1;31m---------------------------------------------------------------------------\u001b[0m",
      "\u001b[1;31mModuleNotFoundError\u001b[0m                       Traceback (most recent call last)",
      "Cell \u001b[1;32mIn[1], line 2\u001b[0m\n\u001b[0;32m      1\u001b[0m \u001b[38;5;66;03m# Load Libraries\u001b[39;00m\n\u001b[1;32m----> 2\u001b[0m \u001b[43mget_ipython\u001b[49m\u001b[43m(\u001b[49m\u001b[43m)\u001b[49m\u001b[38;5;241;43m.\u001b[39;49m\u001b[43mrun_line_magic\u001b[49m\u001b[43m(\u001b[49m\u001b[38;5;124;43m'\u001b[39;49m\u001b[38;5;124;43mrun\u001b[39;49m\u001b[38;5;124;43m'\u001b[39;49m\u001b[43m,\u001b[49m\u001b[43m \u001b[49m\u001b[38;5;124;43m'\u001b[39;49m\u001b[38;5;124;43mFuelmap.ipynb\u001b[39;49m\u001b[38;5;124;43m'\u001b[39;49m\u001b[43m)\u001b[49m\n\u001b[0;32m      3\u001b[0m \u001b[38;5;66;03m## Defining cut parameters\u001b[39;00m\n\u001b[0;32m      4\u001b[0m RMSD_CUT \u001b[38;5;241m=\u001b[39m \u001b[38;5;241m10\u001b[39m \u001b[38;5;66;03m#15.472021\u001b[39;00m\n",
      "File \u001b[1;32mc:\\Users\\Anthony Castillo\\AppData\\Local\\Programs\\Python\\Python312\\Lib\\site-packages\\IPython\\core\\interactiveshell.py:2417\u001b[0m, in \u001b[0;36mInteractiveShell.run_line_magic\u001b[1;34m(self, magic_name, line, _stack_depth)\u001b[0m\n\u001b[0;32m   2415\u001b[0m     kwargs[\u001b[38;5;124m'\u001b[39m\u001b[38;5;124mlocal_ns\u001b[39m\u001b[38;5;124m'\u001b[39m] \u001b[38;5;241m=\u001b[39m \u001b[38;5;28mself\u001b[39m\u001b[38;5;241m.\u001b[39mget_local_scope(stack_depth)\n\u001b[0;32m   2416\u001b[0m \u001b[38;5;28;01mwith\u001b[39;00m \u001b[38;5;28mself\u001b[39m\u001b[38;5;241m.\u001b[39mbuiltin_trap:\n\u001b[1;32m-> 2417\u001b[0m     result \u001b[38;5;241m=\u001b[39m \u001b[43mfn\u001b[49m\u001b[43m(\u001b[49m\u001b[38;5;241;43m*\u001b[39;49m\u001b[43margs\u001b[49m\u001b[43m,\u001b[49m\u001b[43m \u001b[49m\u001b[38;5;241;43m*\u001b[39;49m\u001b[38;5;241;43m*\u001b[39;49m\u001b[43mkwargs\u001b[49m\u001b[43m)\u001b[49m\n\u001b[0;32m   2419\u001b[0m \u001b[38;5;66;03m# The code below prevents the output from being displayed\u001b[39;00m\n\u001b[0;32m   2420\u001b[0m \u001b[38;5;66;03m# when using magics with decodator @output_can_be_silenced\u001b[39;00m\n\u001b[0;32m   2421\u001b[0m \u001b[38;5;66;03m# when the last Python token in the expression is a ';'.\u001b[39;00m\n\u001b[0;32m   2422\u001b[0m \u001b[38;5;28;01mif\u001b[39;00m \u001b[38;5;28mgetattr\u001b[39m(fn, magic\u001b[38;5;241m.\u001b[39mMAGIC_OUTPUT_CAN_BE_SILENCED, \u001b[38;5;28;01mFalse\u001b[39;00m):\n",
      "File \u001b[1;32mc:\\Users\\Anthony Castillo\\AppData\\Local\\Programs\\Python\\Python312\\Lib\\site-packages\\IPython\\core\\magics\\execution.py:722\u001b[0m, in \u001b[0;36mExecutionMagics.run\u001b[1;34m(self, parameter_s, runner, file_finder)\u001b[0m\n\u001b[0;32m    720\u001b[0m     \u001b[38;5;28;01mwith\u001b[39;00m preserve_keys(\u001b[38;5;28mself\u001b[39m\u001b[38;5;241m.\u001b[39mshell\u001b[38;5;241m.\u001b[39muser_ns, \u001b[38;5;124m'\u001b[39m\u001b[38;5;124m__file__\u001b[39m\u001b[38;5;124m'\u001b[39m):\n\u001b[0;32m    721\u001b[0m         \u001b[38;5;28mself\u001b[39m\u001b[38;5;241m.\u001b[39mshell\u001b[38;5;241m.\u001b[39muser_ns[\u001b[38;5;124m'\u001b[39m\u001b[38;5;124m__file__\u001b[39m\u001b[38;5;124m'\u001b[39m] \u001b[38;5;241m=\u001b[39m filename\n\u001b[1;32m--> 722\u001b[0m         \u001b[38;5;28;43mself\u001b[39;49m\u001b[38;5;241;43m.\u001b[39;49m\u001b[43mshell\u001b[49m\u001b[38;5;241;43m.\u001b[39;49m\u001b[43msafe_execfile_ipy\u001b[49m\u001b[43m(\u001b[49m\u001b[43mfilename\u001b[49m\u001b[43m,\u001b[49m\u001b[43m \u001b[49m\u001b[43mraise_exceptions\u001b[49m\u001b[38;5;241;43m=\u001b[39;49m\u001b[38;5;28;43;01mTrue\u001b[39;49;00m\u001b[43m)\u001b[49m\n\u001b[0;32m    723\u001b[0m     \u001b[38;5;28;01mreturn\u001b[39;00m\n\u001b[0;32m    725\u001b[0m \u001b[38;5;66;03m# Control the response to exit() calls made by the script being run\u001b[39;00m\n",
      "File \u001b[1;32mc:\\Users\\Anthony Castillo\\AppData\\Local\\Programs\\Python\\Python312\\Lib\\site-packages\\IPython\\core\\interactiveshell.py:2939\u001b[0m, in \u001b[0;36mInteractiveShell.safe_execfile_ipy\u001b[1;34m(self, fname, shell_futures, raise_exceptions)\u001b[0m\n\u001b[0;32m   2937\u001b[0m result \u001b[38;5;241m=\u001b[39m \u001b[38;5;28mself\u001b[39m\u001b[38;5;241m.\u001b[39mrun_cell(cell, silent\u001b[38;5;241m=\u001b[39m\u001b[38;5;28;01mTrue\u001b[39;00m, shell_futures\u001b[38;5;241m=\u001b[39mshell_futures)\n\u001b[0;32m   2938\u001b[0m \u001b[38;5;28;01mif\u001b[39;00m raise_exceptions:\n\u001b[1;32m-> 2939\u001b[0m     \u001b[43mresult\u001b[49m\u001b[38;5;241;43m.\u001b[39;49m\u001b[43mraise_error\u001b[49m\u001b[43m(\u001b[49m\u001b[43m)\u001b[49m\n\u001b[0;32m   2940\u001b[0m \u001b[38;5;28;01melif\u001b[39;00m \u001b[38;5;129;01mnot\u001b[39;00m result\u001b[38;5;241m.\u001b[39msuccess:\n\u001b[0;32m   2941\u001b[0m     \u001b[38;5;28;01mbreak\u001b[39;00m\n",
      "File \u001b[1;32mc:\\Users\\Anthony Castillo\\AppData\\Local\\Programs\\Python\\Python312\\Lib\\site-packages\\IPython\\core\\interactiveshell.py:268\u001b[0m, in \u001b[0;36mExecutionResult.raise_error\u001b[1;34m(self)\u001b[0m\n\u001b[0;32m    266\u001b[0m     \u001b[38;5;28;01mraise\u001b[39;00m \u001b[38;5;28mself\u001b[39m\u001b[38;5;241m.\u001b[39merror_before_exec\n\u001b[0;32m    267\u001b[0m \u001b[38;5;28;01mif\u001b[39;00m \u001b[38;5;28mself\u001b[39m\u001b[38;5;241m.\u001b[39merror_in_exec \u001b[38;5;129;01mis\u001b[39;00m \u001b[38;5;129;01mnot\u001b[39;00m \u001b[38;5;28;01mNone\u001b[39;00m:\n\u001b[1;32m--> 268\u001b[0m     \u001b[38;5;28;01mraise\u001b[39;00m \u001b[38;5;28mself\u001b[39m\u001b[38;5;241m.\u001b[39merror_in_exec\n",
      "    \u001b[1;31m[... skipping hidden 1 frame]\u001b[0m\n",
      "File \u001b[1;32m~\\AppData\\Local\\Temp\\ipykernel_26412\\2484534437.py:10\u001b[0m\n\u001b[0;32m      8\u001b[0m \u001b[38;5;28;01mimport\u001b[39;00m \u001b[38;5;21;01mmatplotlib\u001b[39;00m\u001b[38;5;21;01m.\u001b[39;00m\u001b[38;5;21;01maxes\u001b[39;00m \u001b[38;5;28;01mas\u001b[39;00m \u001b[38;5;21;01max\u001b[39;00m\n\u001b[0;32m      9\u001b[0m \u001b[38;5;28;01mfrom\u001b[39;00m \u001b[38;5;21;01mmatplotlib\u001b[39;00m \u001b[38;5;28;01mimport\u001b[39;00m colors\n\u001b[1;32m---> 10\u001b[0m \u001b[38;5;28;01mfrom\u001b[39;00m \u001b[38;5;21;01mosgeo\u001b[39;00m \u001b[38;5;28;01mimport\u001b[39;00m gdal\n\u001b[0;32m     11\u001b[0m \u001b[38;5;28;01mfrom\u001b[39;00m \u001b[38;5;21;01mosgeo\u001b[39;00m \u001b[38;5;28;01mimport\u001b[39;00m gdal_array\n\u001b[0;32m     12\u001b[0m \u001b[38;5;28;01mfrom\u001b[39;00m \u001b[38;5;21;01mosgeo\u001b[39;00m \u001b[38;5;28;01mimport\u001b[39;00m osr\n",
      "\u001b[1;31mModuleNotFoundError\u001b[0m: No module named 'osgeo'"
     ]
    }
   ],
   "source": [
    "# Load Libraries\n",
    "%run Fuelmap.ipynb\n",
    "## Defining cut parameters\n",
    "RMSD_CUT = 10 #15.472021"
   ]
  },
  {
   "cell_type": "code",
   "execution_count": null,
   "id": "cc6aeb5c",
   "metadata": {
    "scrolled": false
   },
   "outputs": [
    {
     "ename": "",
     "evalue": "",
     "output_type": "error",
     "traceback": [
      "\u001b[1;31mRunning cells with '.conda (Python 3.11.9)' requires the ipykernel package.\n",
      "\u001b[1;31mRun the following command to install 'ipykernel' into the Python environment. \n",
      "\u001b[1;31mCommand: 'conda install -p i:\\Dr. To Internship\\fuelmap\\.conda ipykernel --update-deps --force-reinstall'"
     ]
    }
   ],
   "source": [
    "################### Training and Predict #########################################################\n",
    "################### This block runs the Training (mlp.fit) then predict the classes for the entire map (mlp.predict)\n",
    "################### Then Run the RMSD Analysis to differentiate Green Trees vs Grass #############################\n",
    "start = time.time()\n",
    "\n",
    "#imageFile='/data/wto/AerialImages/hxip_m_3711961_ne_11_100.tif'\n",
    "#tagFile='hxip_m_3711961_ne_11_100_wtag_Dec23.tif'\n",
    "#outFile='hxip_m_3711961_ne_11_100_NNRMSD.tif'\n",
    "\n",
    "imageFile='./data/ac/AerialPhotos/hxip_m_3711955_nw_11_100/hxip_m_3711955_nw_11_100.tif' #hxip_m_3711954_sw_11_100.tif'\n",
    "tagFile='./data/ac/AerialPhotos/hxip_m_3711955_nw_11_100/hxip_m_3711955_nw_11_100_apr_ac.tif' #'hxip_m_3711954_sw_11_100_wtag_Feb24.tif'\n",
    "outFile='hxip_m_3711955_nw_11_100_NNRMSD.tif' #'hxip_m_3711954_sw_11_100_NNRMSD.tif'\n",
    "\n",
    "print(\"loading the data\")\n",
    "X_train, X_test, Y_train, Y_test, X_matrix, X_flat, Y_matrix, Y_flat = LoadTrainingData( imageFile,tagFile )\n",
    "\n",
    "mlp = MLPClassifier(solver = 'sgd', learning_rate_init= 0.01, activation = 'relu', \n",
    "                    random_state = True, hidden_layer_sizes = [15,15,15,15])\n",
    "\n",
    "print(\"running mlp.fit\")\n",
    "#print(\"Y_flat[Y_flat!=0].shape\",Y_flat[Y_flat!=0].shape)\n",
    "#Make a copy of Y_flat where 6 is retagged to 4.\n",
    "Y_flat_64 = np.copy(Y_flat)\n",
    "Y_flat_64[Y_flat_64==2]=4\n",
    "\n",
    "mlp.fit(X_flat[Y_flat!=0],Y_flat_64[Y_flat_64!=0])\n",
    "#print(\"Training Score %: \", mlp.score(X_train, Y_train)*100)\n",
    "#print(\"Test Score %: \", mlp.score(X_test, Y_test)*100)\n",
    "\n",
    "print(\"Running mlp.predict\")\n",
    "Y_predict = mlp.predict(X_flat)\n",
    "\n",
    "print(\"Running RMSD Analysis\")\n",
    "Y_predict_matrix = np.reshape(Y_predict, X_matrix[0].shape)\n",
    "NIR_RMS = RMSD_of_band5x5(X_matrix[3], Y_predict_matrix)\n",
    "\n",
    "NIR_RMS_f = NIR_RMS.flatten()\n",
    "\n",
    "print(\"Making the cut on RMSD\")\n",
    "NIR_RMS_4 = []\n",
    "NIR_RMS_2 = []\n",
    "for i in range(len(NIR_RMS_f)):\n",
    "    if(Y_flat[i] == 4): NIR_RMS_4.append(NIR_RMS_f[i])\n",
    "    if(Y_flat[i] == 2): NIR_RMS_2.append(NIR_RMS_f[i])  \n",
    "    if ( NIR_RMS_f[i]<RMSD_CUT and Y_predict[i]==4 ):\n",
    "        Y_predict[i]=2\n",
    "\n",
    "rmsd_bins= np.arange(0,50,0.5)\n",
    "plt.hist(NIR_RMS_2, rmsd_bins, alpha=0.5, label='Green Grass', color='r', density = True)\n",
    "plt.xlabel(\"RMS Deviation [pixel intensity]\")\n",
    "plt.ylabel(\"Frequency [unitless]\")\n",
    "plt.hist(NIR_RMS_4, rmsd_bins, alpha=0.5, label='Green Trees', color='b',density = True)\n",
    "plt.plot([RMSD_CUT,RMSD_CUT],[0,0.15], color='k')\n",
    "plt.legend(loc='upper right')\n",
    "plt.show()     \n",
    "\n",
    "############ Confusion Matrix Test###########\n",
    "print(\"Creating the Confusion Matrix\")\n",
    "cm = metrics.confusion_matrix(Y_flat[Y_flat!=0],Y_predict[Y_flat!=0])\n",
    "\n",
    "cm_norm = []\n",
    "for i in range(len(cm)):\n",
    "    row = cm[i]/np.sum(cm[i])\n",
    "    cm_norm.append(row)\n",
    "cm_norm= np.array(cm_norm)    \n",
    "\n",
    "fulltargets =['unburn', 'green grass','dry grass', 'green trees', 'dead trees']\n",
    "# fulltargets = [\"houses\", \"roads\", \"asphalts\", \"green trees\", \"dead trees\", \"green grass\", \"dry grass\", \"water\", \"rocks\",]\n",
    "\n",
    "fig = plt.figure(figsize = (8,8))\n",
    "ax = fig.add_axes([0.1, 0.1, 0.8, 0.8])\n",
    "plt.imshow(cm_norm,cmap='jet',extent=[0.5,5.5,0.5,5.5])\n",
    "plt.colorbar()\n",
    "\n",
    "plt.xlabel(\"Class Pred\")\n",
    "ax.set_xticks([1,2,3,4,5])\n",
    "ax.set_xticklabels(fulltargets)\n",
    "plt.xticks(rotation = 45)\n",
    "plt.ylabel(\"Class Tagged\")\n",
    "ax.set_yticks([1,2,3,4,5])\n",
    "ax.set_yticklabels(fulltargets[::-1])\n",
    "plt.show()\n",
    "############ End Confusion Matrix ###########\n",
    "\n",
    "PrintAcc(Y_predict,Y_flat)\n",
    "SavePredictTif(Y_predict,imageFile,outFile)\n",
    "print('this took ', time.time()-start, 'seconds')"
   ]
  },
  {
   "cell_type": "code",
   "execution_count": null,
   "id": "47ebc604",
   "metadata": {},
   "outputs": [
    {
     "ename": "",
     "evalue": "",
     "output_type": "error",
     "traceback": [
      "\u001b[1;31mRunning cells with '.conda (Python 3.11.9)' requires the ipykernel package.\n",
      "\u001b[1;31mRun the following command to install 'ipykernel' into the Python environment. \n",
      "\u001b[1;31mCommand: 'conda install -p i:\\Dr. To Internship\\fuelmap\\.conda ipykernel --update-deps --force-reinstall'"
     ]
    }
   ],
   "source": []
  },
  {
   "cell_type": "code",
   "execution_count": null,
   "id": "b8be6f40",
   "metadata": {
    "scrolled": false
   },
   "outputs": [
    {
     "ename": "",
     "evalue": "",
     "output_type": "error",
     "traceback": [
      "\u001b[1;31mRunning cells with '.conda (Python 3.11.9)' requires the ipykernel package.\n",
      "\u001b[1;31mRun the following command to install 'ipykernel' into the Python environment. \n",
      "\u001b[1;31mCommand: 'conda install -p i:\\Dr. To Internship\\fuelmap\\.conda ipykernel --update-deps --force-reinstall'"
     ]
    }
   ],
   "source": [
    "################### Prediction Only Cell #########################################################\n",
    "################### This block  predict the classes for the entire map (mlp.predict) (WITHOUT Training)\n",
    "################### Then Run the RMSD Analysis to differentiate Green Trees vs Grass #############################\n",
    "start = time.time()\n",
    "\n",
    "#define your input and output files\n",
    "# imageFile2='/data/wto/AerialImages/hxip_m_3711961_ne_11_100.tif'\n",
    "# tagFile2='hxip_m_3711961_ne_11_100_wtag_Dec23.tif'\n",
    "# outFile2='hxip_m_3711961_ne_11_100_NNRMSD.tif'\n",
    "\n",
    "imageFile2='./data/ac/AerialPhotos/hxip_m_3711955_nw_11_100/hxip_m_3711955_nw_11_100.tif' #hxip_m_3711954_sw_11_100.tif'\n",
    "tagFile2='./data/hxip_m_3711955_nw_11_100_agfeb11.tif'#hxip_m_3711955_nw_100_wtoTag_Mar24.tif' #'hxip_m_3711954_sw_11_100_wtag_Feb24.tif'\n",
    "outFile2='hxip_m_3711955_nw_11_100_NNRMSD.tif' #'hxip_m_3711954_sw_11_100_NNRMSD.tif'\n",
    "\n",
    "\n",
    "print(\"loading the data\")\n",
    "tmp, tmp, tmp, tmp, X_matrix2, X_flat2, Y_matrix2, Y_flat2  = LoadTrainingData( imageFile2,tagFile2)\n",
    "\n",
    "\n",
    "print(\"Running mlp.predict\")\n",
    "Y_predict2 = mlp.predict(X_flat2)\n",
    "\n",
    "\n",
    "print(\"Running RMSD Analysis\")\n",
    "Y_predict_matrix2 = np.reshape(Y_predict2, X_matrix2[0].shape)\n",
    "NIR_RMS2 = RMSD_of_band5x5(X_matrix2[3], Y_predict_matrix2)\n",
    "\n",
    "NIR_RMS_f2 = NIR_RMS2.flatten()\n",
    "\n",
    "#print(\"Making the cut on RMSD\")\n",
    "#for i in range(len(NIR_RMS_f2)):\n",
    "#    if ( NIR_RMS_f2[i]<RMSD_CUT and Y_predict2[i]==4 ):\n",
    "#        Y_predict2[i]=6\n",
    "\n",
    "print(\"Making the cut on RMSD\")\n",
    "NIR_RMS2_4 = []\n",
    "NIR_RMS2_2 = []\n",
    "if len(NIR_RMS_f2) > 5: # for maps using 9 different classifications\n",
    "    for i in range(len(NIR_RMS_f2)):\n",
    "        if(Y_flat2[i] == 5): NIR_RMS2_4.append(NIR_RMS_f2[i])\n",
    "        if(Y_flat2[i] == 3): NIR_RMS2_2.append(NIR_RMS_f2[i])  \n",
    "        if ( NIR_RMS_f2[i]<RMSD_CUT and Y_predict2[i]==4 ):\n",
    "            Y_predict2[i]=2\n",
    "else:\n",
    "    for i in range(len(NIR_RMS_f2)):\n",
    "        if(Y_flat2[i] == 4): NIR_RMS2_4.append(NIR_RMS_f2[i])\n",
    "        if(Y_flat2[i] == 2): NIR_RMS2_2.append(NIR_RMS_f2[i])  \n",
    "        if ( NIR_RMS_f2[i]<RMSD_CUT and Y_predict2[i]==4 ):\n",
    "            Y_predict2[i]=2\n",
    "\n",
    "rmsd_bins= np.arange(0,50,0.25)\n",
    "plt.hist(NIR_RMS2_2, rmsd_bins, alpha=0.5, label='Green Grass', color='r', density = True)\n",
    "plt.xlabel(\"RMS Deviation [pixel intensity]\")\n",
    "plt.ylabel(\"Frequency [unitless]\")\n",
    "plt.hist(NIR_RMS2_4, rmsd_bins, alpha=0.5, label='Green Trees', color='b',density = True)\n",
    "plt.plot([RMSD_CUT,RMSD_CUT],[0,0.15], color='k')\n",
    "plt.legend(loc='upper right')\n",
    "plt.show()  \n",
    "        \n",
    "############ Confusion Matrix Test###########\n",
    "print(\"Creating the Confusion Matrix\")\n",
    "cm = metrics.confusion_matrix(Y_flat2[Y_flat2!=0],Y_predict2[Y_flat2!=0])\n",
    "\n",
    "cm_norm = []\n",
    "for i in range(len(cm)):\n",
    "    row = cm[i]/np.sum(cm[i])\n",
    "    cm_norm.append(row)\n",
    "cm_norm= np.array(cm_norm)    \n",
    "\n",
    "fulltargets =['unburn', 'green grass','dry grass', 'green trees', 'dead trees']\n",
    "# fulltargets = [\"houses\", \"roads\", \"asphalts\", \"green trees\", \"dead trees\", \"green grass\", \"dry grass\", \"water\", \"rocks\",]\n",
    "\n",
    "fig = plt.figure(figsize = (10,10))\n",
    "ax = fig.add_axes([0.1, 0.1, 0.8, 0.8])\n",
    "plt.imshow(cm_norm,cmap='jet',extent=[0.5,5.5,0.5,5.5])\n",
    "plt.colorbar()\n",
    "\n",
    "plt.xlabel(\"Class Pred\")\n",
    "ax.set_xticks([1,2,3,4,5])\n",
    "ax.set_xticklabels(fulltargets)\n",
    "plt.xticks(rotation = 45)\n",
    "plt.ylabel(\"Class Tagged\")\n",
    "ax.set_yticks([1,2,3,4,5])\n",
    "ax.set_yticklabels(fulltargets[::-1])\n",
    "plt.show()\n",
    "############ End Confusion Matrix ###########\n",
    "\n",
    "PrintAcc(Y_predict2,Y_flat2)\n",
    "SavePredictTif(Y_predict2,imageFile2,outFile2)\n",
    "print('this took ', time.time()-start, 'seconds')"
   ]
  },
  {
   "cell_type": "code",
   "execution_count": null,
   "id": "e2b4166b",
   "metadata": {},
   "outputs": [
    {
     "ename": "",
     "evalue": "",
     "output_type": "error",
     "traceback": [
      "\u001b[1;31mRunning cells with '.conda (Python 3.11.9)' requires the ipykernel package.\n",
      "\u001b[1;31mRun the following command to install 'ipykernel' into the Python environment. \n",
      "\u001b[1;31mCommand: 'conda install -p i:\\Dr. To Internship\\fuelmap\\.conda ipykernel --update-deps --force-reinstall'"
     ]
    }
   ],
   "source": []
  },
  {
   "cell_type": "code",
   "execution_count": null,
   "id": "9535c345",
   "metadata": {},
   "outputs": [
    {
     "ename": "",
     "evalue": "",
     "output_type": "error",
     "traceback": [
      "\u001b[1;31mRunning cells with '.conda (Python 3.11.9)' requires the ipykernel package.\n",
      "\u001b[1;31mRun the following command to install 'ipykernel' into the Python environment. \n",
      "\u001b[1;31mCommand: 'conda install -p i:\\Dr. To Internship\\fuelmap\\.conda ipykernel --update-deps --force-reinstall'"
     ]
    }
   ],
   "source": [
    "########## Probabilities Analysis from mlp.predict_proba()\n",
    "### This code block makes the probability histogram using the training data.\n",
    "targets = ['houses', 'road', 'asphalt', 'green trees', 'dead trees', 'dry grass', 'water','rock']\n",
    "fulltargets =['houses', 'road', 'asphalt', 'green trees', 'dead trees', 'green grass','dry grass', 'water','rock']\n",
    "\n",
    "prob = mlp.predict_proba(X_train)\n",
    "\n",
    "prob_1 = prob[Y_train==1]\n",
    "prob_2 = prob[Y_train==2]\n",
    "prob_3 = prob[Y_train==3]\n",
    "prob_4 = prob[Y_train==4]\n",
    "prob_5 = prob[Y_train==5]\n",
    "prob_7 = prob[Y_train==7]\n",
    "prob_8 = prob[Y_train==8]\n",
    "prob_9 = prob[Y_train==9]\n",
    "\n",
    "probabilities = [prob_1, prob_2, prob_3,prob_4,prob_5,prob_7,prob_8,prob_9]\n",
    "\n",
    "print(len(probabilities))\n",
    "\n",
    "def probability_graph(prob_matrix, class_num,ax):\n",
    "    bins = np.linspace(0,1,10)\n",
    "    matrix = np.zeros((len(bins)-1,8))\n",
    "\n",
    "    for j in range(8):\n",
    "        hist,edges =np.histogram(prob_matrix[:,j],bins=bins)\n",
    "        matrix[:,j]=np.flip(hist)\n",
    "    ax.imshow(matrix,extent=[0.5,8.5,0,100], aspect='auto', cmap=\"jet\", norm=colors.LogNorm())\n",
    "    ax.set_xticks([1,2,3,4,5,6,7,8])\n",
    "    ax.set_xticklabels(targets)\n",
    "    ax.set_title(\"Probability of Tagged {}:{} Log scale\".format(class_num,fulltargets[class_num-1]))\n",
    "\n",
    "fig , axes = plt.subplots(4,2,figsize=(20,20))\n",
    "ax = axes.ravel()\n",
    "classnumber = [1,2,3,4,5,7,8,9]\n",
    "for i in range(8):\n",
    "    probability_graph(probabilities[i],classnumber[i] , ax[i]) "
   ]
  },
  {
   "cell_type": "code",
   "execution_count": null,
   "id": "a740a0be",
   "metadata": {},
   "outputs": [
    {
     "ename": "",
     "evalue": "",
     "output_type": "error",
     "traceback": [
      "\u001b[1;31mRunning cells with '.conda (Python 3.11.9)' requires the ipykernel package.\n",
      "\u001b[1;31mRun the following command to install 'ipykernel' into the Python environment. \n",
      "\u001b[1;31mCommand: 'conda install -p i:\\Dr. To Internship\\fuelmap\\.conda ipykernel --update-deps --force-reinstall'"
     ]
    }
   ],
   "source": []
  }
 ],
 "metadata": {
  "kernelspec": {
   "display_name": "Python 3 (ipykernel)",
   "language": "python",
   "name": "python3"
  },
  "language_info": {
   "codemirror_mode": {
    "name": "ipython",
    "version": 3
   },
   "file_extension": ".py",
   "mimetype": "text/x-python",
   "name": "python",
   "nbconvert_exporter": "python",
   "pygments_lexer": "ipython3",
   "version": "3.12.3"
  }
 },
 "nbformat": 4,
 "nbformat_minor": 5
}
